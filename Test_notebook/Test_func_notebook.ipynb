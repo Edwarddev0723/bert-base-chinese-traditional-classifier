{
 "cells": [
  {
   "cell_type": "code",
   "execution_count": 1,
   "id": "0fa3d305",
   "metadata": {},
   "outputs": [
    {
     "name": "stdout",
     "output_type": "stream",
     "text": [
      "(1938, 2)\n",
      "text     object\n",
      "label     int64\n",
      "dtype: object\n",
      "                                                text  label\n",
      "0  麥當勞為什麼會提前3年終止對奧運會的贊助？意味著什麼？在我看來，主要原因是企業內部戰略的調整...      0\n",
      "1  孕婦檢查糖耐在範圍，但醫生確證為妊娠糖尿病為啥？什麼是妊娠糖尿病和糖篩妊娠後首次發現或發病的...      0\n",
      "2  Coach 寇馳 Colorblock Coach Swagger 女款斜挎包 海淘Coac...      0\n",
      "3  如何評價羅永浩在5月22日的鬥魚直播中，針對問答社區上對堅果Pro的批評的回應？三星手機多次...      0\n",
      "4  西班牙一銀行出事，港股跌個四腳朝天，好彩近日冇入貨，否則一買即跌。技術派會話，跌破二百五十天...      1\n",
      "label\n",
      "1    998\n",
      "0    940\n",
      "Name: count, dtype: int64\n",
      "count     1938.000000\n",
      "mean       742.808050\n",
      "std        960.172736\n",
      "min         10.000000\n",
      "25%        115.000000\n",
      "50%        401.000000\n",
      "75%        983.250000\n",
      "90%       1874.300000\n",
      "max      10207.000000\n",
      "Name: text, dtype: float64\n"
     ]
    }
   ],
   "source": [
    "from datasets import load_dataset\n",
    "import pandas as pd\n",
    "\n",
    "PARQUET_PATH = \"data_cache_v2/fineweb_mix_2000.parquet\"   # 替換成實際檔名\n",
    "df = pd.read_parquet(PARQUET_PATH )\n",
    "\n",
    "# 2. 基本結構\n",
    "print(df.shape)        # (rows, cols)\n",
    "print(df.dtypes)       # 各欄位型別\n",
    "\n",
    "# 3. 前幾列內容\n",
    "print(df.head(5))\n",
    "\n",
    "# 4. 標籤分布\n",
    "print(df[\"label\"].value_counts())     # 1=繁體來源, 0=簡→繁\n",
    "\n",
    "# 5. 文字長度統計\n",
    "lens = df[\"text\"].str.len()\n",
    "print(lens.describe(percentiles=[.25, .5, .75, .9]))"
   ]
  },
  {
   "cell_type": "code",
   "execution_count": null,
   "id": "f3320bd5",
   "metadata": {},
   "outputs": [
    {
     "data": {
      "application/vnd.jupyter.widget-view+json": {
       "model_id": "90927353c21747e1b927737736049b27",
       "version_major": 2,
       "version_minor": 0
      },
      "text/plain": [
       "Map (num_proc=16):   0%|          | 0/1550 [00:00<?, ? examples/s]"
      ]
     },
     "metadata": {},
     "output_type": "display_data"
    }
   ],
   "source": [
    "from datasets import Dataset\n",
    "import pandas as pd\n",
    "from src.tokenizer_util import get_tokenizer, split_and_tokenize\n",
    "ds = Dataset.from_pandas(pd.read_parquet(\"data_cache_v2/fineweb_mix_2000.parquet\"))\n",
    "enc, train_df, val_df = split_and_tokenize(ds, get_tokenizer())"
   ]
  },
  {
   "cell_type": "code",
   "execution_count": 2,
   "id": "f4650f7e",
   "metadata": {},
   "outputs": [
    {
     "name": "stdout",
     "output_type": "stream",
     "text": [
      "\n",
      "=== Label 0 ===\n",
      "\n",
      "--- Example 1 ---\n",
      "小行星列表/368301-368400\n",
      "\n",
      "\n",
      "--- Example 2 ---\n",
      "自慰對女性身體有害嗎？今天看見四萬姐的微博上說她要戒掉自慰就想起來，男的自慰傷身體，俗話說一滴精十滴血，那麼女的呢？更了個新 半年還是一年過去了我依舊活的很好 依舊是處咳咳 評論裡一堆要資源的我也 no way 我不會傳播dirty的東西的 資源要自己找才有擼點冷漠 screw your guys Im going home 必須回答一下 這種問題太敏感所以匿名咳 女生，18歲，開始自慰應該是小學五年級吧 沒有什麼，無師自通，一開始是看的小說裡有比較h的描寫現在看來弱爆了哈哈哈哈，然後就覺得有些不對勁啊之類的 一開始是\n",
      "\n",
      "\n",
      "=== Label 1 ===\n",
      "\n",
      "--- Example 1 ---\n",
      "最近有很多朋友詢問我有關 新竹快速借款 的問題.....\n",
      "因為我曾經有過這方面的經驗(貸款.卡債).....\n",
      "所以我決定寫一篇關於 新竹快速借款 的文章.....\n",
      "希望這篇文章能幫助你解決金錢上的問題.....\n",
      "新竹快速借款 詳細了解請點選右邊的網址:http://goo.gl/ZN2unZ\n",
      "還有電視廣告的推薦唷~\n",
      "中央社記者江今葉布魯塞爾27日專電比利時官員表示，過去2年來，比利時已經成功阻止6次恐怖攻擊的發生，許整合負債多資訊來自穆斯林社區。儘管有效阻止恐攻，但比利時軍隊裡仍有多達50名軍人遭到嚴密監控。比利時因為是歐洲前往中東參戰的聖戰士比重最高國家，包括巴黎布魯塞爾等多個城市恐怖攻擊，也都和比青創代辦利時有密切連結，比利時聯邦政府在過去幾年裡積極收集情資，希望能避免大規模恐怖攻擊的發生。比利時聯邦司法警局Federal Judicial Police主任賈可布斯Eric Jaco銀行借錢bs向比利時時報DeTijd表示，從2014年11月以來，比利時至少成功阻止6次恐怖攻擊。不過他並未說明這些預謀中的恐攻攻擊目標對象與時間。賈可布斯表示，這些攻擊許多是由孤狼或是恐怖份子網絡策劃，這些人多半是小奸小惡無法順利融入社會的份子。不過也有好消息，他指出，警方與穆短期借款斯林社區的聯繫變得更為熱絡與頻繁，這些反恐情資有許多來自當地穆斯林社區，當地穆斯林對可疑行為更加提高警覺，每天有多達600則訊息進入警方的情資系統。儘管比例時積極反恐，但比利時情報與安全局SGRS表示，軍隊裡仍存有高達約50名軍人被認為屬於極端保守的伊斯蘭薩拉菲派Salafists，正在被嚴密監控中。布魯塞爾時報Brussels Times指出，這其中有10人被認為應是薩拉菲派成員，這其中有4個人是高度活躍者。其他被監控的極端穆斯林則是被懷疑與犯罪組織有聯繫，或是極端右翼份子。儘管懷疑這些軍人的忠誠度，但根據比利時相關法規，除非確認這些人有任何犯罪行為，否則不能以此為理由，要求他們從軍中退役。1051227\n",
      "青年留學無息貸款房貸算法宜蘭快速借錢銀行信貸條件a勞保貸款>南投民間代書貸款\n",
      "- 善用自己的貸款優勢提高過件率~ 信用瑕疵信貸\n",
      "- 借不到資金正在煩惱嗎？高雄哪裡可以借錢\n",
      "- 向錢莊借款而導致高利怎麼辦? 公教房屋貸款\n",
      "- 諮詢各家銀行貸款條件最快的方法! 勞工紓困貸款2016\n",
      "- 一定要睜大眼睛注意的事 雲林二胎房貸條件\n",
      "- 快速申辦小訣竅大公開 銀行轉貸\n",
      "E1CCC60826ED2D6F\n",
      "\n",
      "\n",
      "--- Example 2 ---\n",
      "這是我上網參加信誼奇蜜媽咪鑑賞團活動收到的新產品試用包\n",
      "歡迎優質媽咪加入奇蜜媽咪鑑賞團！只要您是奇蜜親子網的會員，就有獲得免費體驗鑑賞的機會。報名網址：http://www.kimy.com.tw/project/mami/P1.aspx?\n",
      "心得感想：\n",
      "當天收到試用品芙美得私密清潔凝膠2包7ml產品後,懷著高興又開心的心情,晚上睡前洗澡馬上開一包來試用,使用量只要擠一點點加點水揉搓起泡就可以了,一包可分2次使用唷~超節省的,而且泡泡超綿密又細緻,味道是淡淡的花朵香不刺鼻,洗在私處時很舒服,像我現在懷孕期會有大量分泌物,因夏天悶熱流汗私處潮濕而產生搔養感不小心抓破皮,因產品是弱酸性就算有傷口洗了一點也不刺痛,洗2次後就有明顯感覺私處不再搔養了,而且在洗淨時也不需使用大量的清水就可以沖的非常乾淨又清爽,一點都不帶滑溜感,不會讓妳有沖不乾淨的煩惱,這產品真的超讚的啦。產品圖示：\n",
      "使用方法：\n",
      "1.將肌膚以清水濕潤後，取適量加水搓至起泡，清潔後再以水沖淨即可。2.私密處感染期可依照醫師/藥師囑咐，搭配使用。3.有需要的時候一天使用多次也不會刺激。注意事項：請置於陰涼處保存\n",
      "產品功效：\n",
      "1.以接近女性外陰的pH值，輕柔地清潔私密部位。2.從蘭花中提取的天然花朵芳香，能溫柔消除異味功能(deodorizant effect)，對於易有體味懷孕過程不適性交前後更年期生理期中產後婦女私密清潔，溫和潔淨不刺激。3.適合敏感膚質私密清潔，也適合正常健康女性外陰清潔護理。低敏感性配方(hypoallergenic)，無皂鹼弱酸性pH5.5，好沖洗，不易造成使用的不適應症狀。添加保濕水合甘油Glycerin：吸住水分保持生理平衡，預防乾澀。含天然美國翠葉蘆薈(Aloe Barbadensis)，被世界蘆薈科學協會(I.A.S.C.) 推荐為品質最優良的蘆薈品種。豐富的維生素微量元素及天然的保濕成份，能有助消炎退腫潤滑及傷口修復作用。選用溫和陰離子及兩性表面活性連結配方(Syndet liquid) ，椰油基-葡糖甘coco glucoside/甘油油酸酯glyceryl oleate，柔細的泡沫好沖洗，傳統鹼性肥皂清潔後會留下皂鹼，造成肌膚負擔新洗淨配方(Syndet)，溫和不刺激，有助強化皮膚天然保護膜。天然乳酸(lactic acid)檸檬酸(citric acid)等成份，具良好的舒緩作用，能平衡私密處肌膚pH酸鹼值，常保清爽舒適具促進細胞再生抗老化美白作用。含天然植物-葡聚醣(betaglucan)，具抗敏功效，可活化蘭格罕氏細胞，增加肌膚免疫力，修護特別細緻脆弱肌膚，加強外陰天然潤滑防禦功能。- Jul 17 Sun 2011 16:52\n",
      "這是我上網參加信誼奇蜜媽咪鑑賞團活動收到的新產品試用包\n",
      "\n"
     ]
    }
   ],
   "source": [
    "for lbl in sorted(df[\"label\"].unique()):\n",
    "    print(f\"\\n=== Label {lbl} ===\")\n",
    "    samples = df[df[\"label\"] == lbl].sample(2, random_state=42)[\"text\"]\n",
    "    for i, txt in enumerate(samples, 1):\n",
    "        print(f\"\\n--- Example {i} ---\\n{txt}\\n\")\n"
   ]
  }
 ],
 "metadata": {
  "kernelspec": {
   "display_name": "VPPM",
   "language": "python",
   "name": "python3"
  },
  "language_info": {
   "codemirror_mode": {
    "name": "ipython",
    "version": 3
   },
   "file_extension": ".py",
   "mimetype": "text/x-python",
   "name": "python",
   "nbconvert_exporter": "python",
   "pygments_lexer": "ipython3",
   "version": "3.11.11"
  }
 },
 "nbformat": 4,
 "nbformat_minor": 5
}
